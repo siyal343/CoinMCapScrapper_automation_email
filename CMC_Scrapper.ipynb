{
 "cells": [
  {
   "cell_type": "code",
   "execution_count": 44,
   "metadata": {},
   "outputs": [],
   "source": [
    "from requests_html import HTMLSession, AsyncHTMLSession\n",
    "from bs4 import BeautifulSoup\n",
    "from pydantic import BaseModel\n",
    "import nest_asyncio\n",
    "import asyncio\n",
    "\n",
    "nest_asyncio.apply()"
   ]
  },
  {
   "cell_type": "code",
   "execution_count": null,
   "metadata": {},
   "outputs": [],
   "source": [
    "base_url = \"https://coinmarketcap.com/\""
   ]
  },
  {
   "cell_type": "code",
   "execution_count": 45,
   "metadata": {},
   "outputs": [],
   "source": [
    "async def load_url(session: AsyncHTMLSession, url: str) -> BeautifulSoup:\n",
    "    try:\n",
    "        response = await session.get(url)\n",
    "        await response.html.arender(sleep=2, scrolldown=15, keep_page=True)\n",
    "        return BeautifulSoup(response.html.html, \"html.parser\")\n",
    "    except Exception as e:\n",
    "        print(e)"
   ]
  },
  {
   "cell_type": "code",
   "execution_count": 46,
   "metadata": {},
   "outputs": [],
   "source": [
    "def gather_data(soup: BeautifulSoup) -> list:\n",
    "    class Coin(BaseModel):\n",
    "        coin_logo: str\n",
    "        coin_name: str\n",
    "        coin_ticker: str\n",
    "        coin_price: str\n",
    "        change_1hr: str\n",
    "        change_24hr: str\n",
    "        change_7d: str\n",
    "        market_cap: str\n",
    "        volume_24hr: str\n",
    "        circ_supply: str\n",
    "\n",
    "    coins = []\n",
    "\n",
    "    table = soup.find(\"table\", class_=\"cmc-table\")\n",
    "    table_rows = table.find_all(\"tr\")\n",
    "\n",
    "    for row in table_rows[2:]:\n",
    "        coin_logo = row.find(\"img\", {\"class\": \"coin-logo\"})[\"src\"]\n",
    "        coin_name = row.find(\"p\", {\"class\": \"sc-4984dd93-0 kKpPOn\"}).text\n",
    "        coin_ticker = row.find(\"p\", {\"class\": \"coin-item-symbol\"}).text\n",
    "        coin_price = row.find(\"div\", {\"class\": \"sc-a0353bbc-0\"}).text\n",
    "        change_1hr, change_24hr, change_7d = [\n",
    "            tag.text for tag in row.find_all(\"span\", {\"class\": \"sc-d55c02b-0\"})\n",
    "        ]\n",
    "        market_cap = row.find(\"span\", {\"class\": \"sc-7bc56c81-0\"}).text\n",
    "        volume_24hr = row.find(\n",
    "            \"p\", {\"class\": \"sc-4984dd93-0 jZrMxO font_weight_500\"}\n",
    "        ).text\n",
    "        circ_supply = row.find(\"p\", {\"class\": \"sc-4984dd93-0 WfVLk\"}).text\n",
    "\n",
    "        tempCoin = Coin(\n",
    "            coin_logo=coin_logo,\n",
    "            coin_name=coin_name,\n",
    "            coin_ticker=coin_ticker,\n",
    "            coin_price=coin_price,\n",
    "            change_1hr=change_1hr,\n",
    "            change_24hr=change_24hr,\n",
    "            change_7d=change_7d,\n",
    "            market_cap=market_cap,\n",
    "            volume_24hr=volume_24hr,\n",
    "            circ_supply=circ_supply,\n",
    "        )\n",
    "\n",
    "        coins.append(tempCoin)\n",
    "\n",
    "    return coins"
   ]
  },
  {
   "cell_type": "code",
   "execution_count": 47,
   "metadata": {},
   "outputs": [],
   "source": [
    "async def main():\n",
    "    base_url = \"https://coinmarketcap.com/\"\n",
    "    pages_to_scrape = 10\n",
    "    session = AsyncHTMLSession()\n",
    "\n",
    "    bsHtml = []\n",
    "\n",
    "    for i in range(1, pages_to_scrape + 1):\n",
    "        url = f\"{base_url}?page={i}\"\n",
    "        soup = await load_url(session, url)\n",
    "        bsHtml.extend(soup)\n",
    "\n",
    "    for soup in bsHtml:\n",
    "        coins = gather_data(soup)\n",
    "        print(coins)\n",
    "\n",
    "    await session.close()"
   ]
  },
  {
   "cell_type": "code",
   "execution_count": 48,
   "metadata": {},
   "outputs": [],
   "source": [
    "asyncio.run(main())"
   ]
  },
  {
   "cell_type": "code",
   "execution_count": null,
   "metadata": {},
   "outputs": [],
   "source": [
    "async def main():\n",
    "    base_url = \"https://coinmarketcap.com/\"\n",
    "    pages_to_scrape = 10\n",
    "\n",
    "    async with AsyncHTMLSession() as session:\n",
    "        bsHtml = []\n",
    "\n",
    "        for i in range(1, pages_to_scrape + 1):\n",
    "            url = f\"{base_url}?page={i}\"\n",
    "            soup = await load_url(session, url)\n",
    "            bsHtml.extend(soup)\n",
    "\n",
    "        print(gather_data(soup))"
   ]
  }
 ],
 "metadata": {
  "kernelspec": {
   "display_name": "Python 3",
   "language": "python",
   "name": "python3"
  },
  "language_info": {
   "codemirror_mode": {
    "name": "ipython",
    "version": 3
   },
   "file_extension": ".py",
   "mimetype": "text/x-python",
   "name": "python",
   "nbconvert_exporter": "python",
   "pygments_lexer": "ipython3",
   "version": "3.12.0"
  }
 },
 "nbformat": 4,
 "nbformat_minor": 2
}
