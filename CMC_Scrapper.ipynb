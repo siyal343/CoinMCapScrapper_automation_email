{
 "cells": [
  {
   "cell_type": "code",
   "execution_count": 20,
   "metadata": {},
   "outputs": [],
   "source": [
    "from requests_html import HTMLSession, AsyncHTMLSession\n",
    "from bs4 import BeautifulSoup\n",
    "from pydantic import BaseModel\n",
    "import nest_asyncio\n",
    "import asyncio\n",
    "from typing import Optional\n",
    "import pandas as pd\n",
    "import datetime\n",
    "import os\n",
    "import smtplib\n",
    "from email.mime.multipart import MIMEMultipart\n",
    "from email.mime.text import MIMEText\n",
    "from email.mime.base import MIMEBase\n",
    "from email import encoders\n",
    "\n",
    "nest_asyncio.apply()"
   ]
  },
  {
   "cell_type": "code",
   "execution_count": 21,
   "metadata": {},
   "outputs": [],
   "source": [
    "EMAIL_ADDRESS = os.environ.get(\"EMAIL_USER\")\n",
    "EMAIL_PASSWORD = os.environ.get(\"EMAIL_PASS\")"
   ]
  },
  {
   "cell_type": "code",
   "execution_count": 22,
   "metadata": {},
   "outputs": [],
   "source": [
    "async def load_url(session: AsyncHTMLSession, url: str) -> BeautifulSoup:\n",
    "    try:\n",
    "        response = await session.get(url)\n",
    "        await response.html.arender(sleep=2, scrolldown=15, keep_page=True)\n",
    "        return BeautifulSoup(response.html.html, \"html.parser\")\n",
    "    except Exception as e:\n",
    "        print(e)"
   ]
  },
  {
   "cell_type": "code",
   "execution_count": 23,
   "metadata": {},
   "outputs": [],
   "source": [
    "def gather_data(soup: BeautifulSoup) -> list:\n",
    "    class Coin(BaseModel):\n",
    "        coin_rank: Optional[int]\n",
    "        coin_logo: Optional[str]\n",
    "        coin_name: Optional[str]\n",
    "        coin_ticker: Optional[str]\n",
    "        coin_price: Optional[str]\n",
    "        change_1hr: Optional[str]\n",
    "        change_24hr: Optional[str]\n",
    "        change_7d: Optional[str]\n",
    "        market_cap: Optional[str]\n",
    "        volume_24hr: Optional[str]\n",
    "        circ_supply: Optional[str]\n",
    "\n",
    "    coins = []\n",
    "\n",
    "    table = soup.find(\"table\", class_=\"cmc-table\")\n",
    "    table_rows = table.find_all(\"tr\")\n",
    "\n",
    "    for row in table_rows[2:]:\n",
    "        coin_rank = (\n",
    "            row.find(\"p\", {\"class\": \"sc-4984dd93-0 iWSjWE\"}).text\n",
    "            if row.find(\"p\", {\"class\": \"sc-4984dd93-0 iWSjWE\"})\n",
    "            else None\n",
    "        )\n",
    "        coin_logo = (\n",
    "            row.find(\"img\", {\"class\": \"coin-logo\"})[\"src\"]\n",
    "            if row.find(\"img\", {\"class\": \"coin-logo\"})\n",
    "            else None\n",
    "        )\n",
    "        coin_name = (\n",
    "            row.find(\"p\", {\"class\": \"sc-4984dd93-0 kKpPOn\"}).text\n",
    "            if row.find(\"p\", {\"class\": \"sc-4984dd93-0 kKpPOn\"})\n",
    "            else None\n",
    "        )\n",
    "        coin_ticker = (\n",
    "            row.find(\"p\", {\"class\": \"coin-item-symbol\"}).text\n",
    "            if row.find(\"p\", {\"class\": \"coin-item-symbol\"})\n",
    "            else None\n",
    "        )\n",
    "        coin_price = (\n",
    "            row.find(\"div\", {\"class\": \"sc-a0353bbc-0\"}).text\n",
    "            if row.find(\"div\", {\"class\": \"sc-a0353bbc-0\"})\n",
    "            else None\n",
    "        )\n",
    "        change_1hr, change_24hr, change_7d = [\n",
    "            tag.text if tag else None\n",
    "            for tag in row.find_all(\"span\", {\"class\": \"sc-d55c02b-0\"})\n",
    "        ]\n",
    "        market_cap = (\n",
    "            row.find(\"span\", {\"class\": \"sc-7bc56c81-0\"}).text\n",
    "            if row.find(\"span\", {\"class\": \"sc-7bc56c81-0\"})\n",
    "            else None\n",
    "        )\n",
    "        volume_24hr = (\n",
    "            row.find(\"p\", {\"class\": \"sc-4984dd93-0 jZrMxO font_weight_500\"}).text\n",
    "            if row.find(\"p\", {\"class\": \"sc-4984dd93-0 jZrMxO font_weight_500\"})\n",
    "            else None\n",
    "        )\n",
    "        circ_supply = (\n",
    "            row.find(\"p\", {\"class\": \"sc-4984dd93-0 WfVLk\"}).text\n",
    "            if row.find(\"p\", {\"class\": \"sc-4984dd93-0 WfVLk\"})\n",
    "            else None\n",
    "        )\n",
    "\n",
    "        tempCoin = Coin(\n",
    "            coin_rank=int(coin_rank),\n",
    "            coin_logo=coin_logo,\n",
    "            coin_name=coin_name,\n",
    "            coin_ticker=coin_ticker,\n",
    "            coin_price=coin_price,\n",
    "            change_1hr=change_1hr,\n",
    "            change_24hr=change_24hr,\n",
    "            change_7d=change_7d,\n",
    "            market_cap=market_cap,\n",
    "            volume_24hr=volume_24hr,\n",
    "            circ_supply=circ_supply,\n",
    "        )\n",
    "\n",
    "        coins.append(tempCoin)\n",
    "\n",
    "    return coins"
   ]
  },
  {
   "cell_type": "code",
   "execution_count": 24,
   "metadata": {},
   "outputs": [],
   "source": [
    "async def extract_data(session: AsyncHTMLSession):\n",
    "    base_url = \"https://coinmarketcap.com/\"\n",
    "    pages_to_scrape = 10\n",
    "    session = session\n",
    "\n",
    "    coins = []\n",
    "\n",
    "    for i in range(1, pages_to_scrape + 1):\n",
    "        url = f\"{base_url}?page={i}\"\n",
    "        soup = await load_url(session, url)\n",
    "        coins = coins + gather_data(soup)\n",
    "\n",
    "    await session.close()\n",
    "\n",
    "    return coins"
   ]
  },
  {
   "cell_type": "code",
   "execution_count": 25,
   "metadata": {},
   "outputs": [],
   "source": [
    "async def main():\n",
    "    session = AsyncHTMLSession()\n",
    "    return await extract_data(session)"
   ]
  },
  {
   "cell_type": "code",
   "execution_count": 26,
   "metadata": {},
   "outputs": [],
   "source": [
    "def get_dateTime():\n",
    "    now = datetime.datetime.now()\n",
    "    dt_string = now.strftime(\"%d-%m-%Y_%H%M%S\")\n",
    "    return dt_string"
   ]
  },
  {
   "cell_type": "code",
   "execution_count": 27,
   "metadata": {},
   "outputs": [],
   "source": [
    "def save_to_excel(Coins, currentDateTime):\n",
    "    data = [coin.dict() for coin in Coins]\n",
    "    df = pd.DataFrame(data)\n",
    "    # get the current date and time to append the excel file name\n",
    "    dt_string = currentDateTime\n",
    "    df.to_excel(f\"Coins_{dt_string}.xlsx\", index=False)"
   ]
  },
  {
   "cell_type": "code",
   "execution_count": 34,
   "metadata": {},
   "outputs": [],
   "source": [
    "def email_excel(currentDateTime):\n",
    "    msg = MIMEMultipart()\n",
    "\n",
    "    msg[\"Subject\"] = \"Top 1000 Cryptocurrencies\"\n",
    "\n",
    "    msg[\"From\"] = EMAIL_ADDRESS\n",
    "\n",
    "    msg[\"To\"] = \"siyal343@gmail.com\"\n",
    "\n",
    "    body = \"Scrapped 1000 Cryptocurrencies Rankings\"\n",
    "\n",
    "    msg.attach(MIMEText(body, \"plain\"))\n",
    "\n",
    "    with open(f\"Coins_{currentDateTime}.xlsx\", \"rb\") as attachment:\n",
    "        part = MIMEBase(\"application\", \"octet-stream\")\n",
    "        part.set_payload(attachment.read())\n",
    "        encoders.encode_base64(part)\n",
    "        part.add_header(\n",
    "            \"Content-Disposition\", f\"attachment; filename= Coins_{currentDateTime}.xlsx\"\n",
    "        )\n",
    "        msg.attach(part)\n",
    "\n",
    "\n",
    "    with smtplib.SMTP_SSL(\"smtp.gmail.com\", port=465) as smtp:\n",
    "        smtp.login(EMAIL_ADDRESS, EMAIL_PASSWORD)\n",
    "\n",
    "        smtp.send_message(msg)\n",
    "\n",
    "    os.remove(f\"Coins_{currentDateTime}.xlsx\")"
   ]
  },
  {
   "cell_type": "code",
   "execution_count": 30,
   "metadata": {},
   "outputs": [],
   "source": [
    "Coins = asyncio.run(main())"
   ]
  },
  {
   "cell_type": "code",
   "execution_count": 35,
   "metadata": {},
   "outputs": [
    {
     "name": "stdout",
     "output_type": "stream",
     "text": [
      "there were 1000 coins extracted\n"
     ]
    }
   ],
   "source": [
    "print(f\"there were {len(Coins)} coins extracted\")\n",
    "\n",
    "currentDateTime = get_dateTime()\n",
    "save_to_excel(Coins, currentDateTime)\n",
    "email_excel(currentDateTime)"
   ]
  }
 ],
 "metadata": {
  "kernelspec": {
   "display_name": "Python 3",
   "language": "python",
   "name": "python3"
  },
  "language_info": {
   "codemirror_mode": {
    "name": "ipython",
    "version": 3
   },
   "file_extension": ".py",
   "mimetype": "text/x-python",
   "name": "python",
   "nbconvert_exporter": "python",
   "pygments_lexer": "ipython3",
   "version": "3.12.0"
  }
 },
 "nbformat": 4,
 "nbformat_minor": 2
}
