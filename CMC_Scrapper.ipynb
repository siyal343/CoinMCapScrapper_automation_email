{
 "cells": [
  {
   "cell_type": "code",
   "execution_count": 27,
   "metadata": {},
   "outputs": [],
   "source": [
    "from requests_html import HTMLSession, AsyncHTMLSession\n",
    "from bs4 import BeautifulSoup\n",
    "from pydantic import BaseModel\n",
    "import nest_asyncio\n",
    "\n",
    "nest_asyncio.apply()"
   ]
  },
  {
   "cell_type": "code",
   "execution_count": 20,
   "metadata": {},
   "outputs": [],
   "source": []
  },
  {
   "cell_type": "code",
   "execution_count": 93,
   "metadata": {},
   "outputs": [],
   "source": [
    "# coin_logo {class:\"coin-logo\"}, coin_name {class:\"sc-4984dd93-0 kKpPOn}, coin_ticker {class:\"coin-item-symbol\"}, coin_price {class:\"sc-a0353bbc-0}, percent_change {class:\"sc-d55c02b-0\"}, market_cap {class:\"sc-7bc56c81-0}, 24hr_volume {class:\"sc-4984dd93-0 jZrMxO font_weight_500}, circ_supply {class:\"sc-4984dd93-0 WfVLk}"
   ]
  },
  {
   "cell_type": "code",
   "execution_count": 97,
   "metadata": {},
   "outputs": [],
   "source": [
    "# data = {'logos': [], 'names': [], 'tickers': [], 'prices': [], 'change_1hr': [], 'change_24hr': [], 'change_7d': [], 'market_cap': [], 'volume_24hr': [], 'circ_supply': []}"
   ]
  },
  {
   "cell_type": "code",
   "execution_count": 127,
   "metadata": {},
   "outputs": [],
   "source": [
    "async def load_url(session: AsyncHTMLSession, url: str) -> BeautifulSoup:\n",
    "    response = await session.get(\"https://coinmarketcap.com/?page=1\")\n",
    "\n",
    "\n",
    "    await response.html.arender(sleep=3, scrolldown=15, keep_page=True)\n",
    "\n",
    "\n",
    "    return BeautifulSoup(response.html.html, \"html.parser\")"
   ]
  },
  {
   "cell_type": "code",
   "execution_count": 128,
   "metadata": {},
   "outputs": [],
   "source": [
    "session = AsyncHTMLSession()\n",
    "soup = await load_url(session, \"https://coinmarketcap.com/\")"
   ]
  },
  {
   "cell_type": "code",
   "execution_count": 136,
   "metadata": {},
   "outputs": [],
   "source": [
    "def gather_data(soup: BeautifulSoup) -> list:\n",
    "    data = {\n",
    "        \"logos\": [],\n",
    "        \"names\": [],\n",
    "        \"tickers\": [],\n",
    "        \"prices\": [],\n",
    "        \"change_1hr\": [],\n",
    "        \"change_24hr\": [],\n",
    "        \"change_7d\": [],\n",
    "        \"market_cap\": [],\n",
    "        \"volume_24hr\": [],\n",
    "        \"circ_supply\": [],\n",
    "    }\n",
    "\n",
    "    class Coin(BaseModel):\n",
    "        coin_logo: str\n",
    "        coin_name: str\n",
    "        coin_ticker: str\n",
    "        coin_price: str\n",
    "        change_1hr: str\n",
    "        change_24hr: str\n",
    "        change_7d: str\n",
    "        market_cap: str\n",
    "        volume_24hr: str\n",
    "        circ_supply: str\n",
    "\n",
    "    coins = []\n",
    "\n",
    "    table = soup.find(\"table\", class_=\"cmc-table\")\n",
    "    table_rows = table.find_all(\"tr\")\n",
    "\n",
    "    for row in table_rows[2:]:\n",
    "        coin_logo = row.find(\"img\", {\"class\": \"coin-logo\"})[\"src\"]\n",
    "\n",
    "        name_tag = row.find(\"p\", {\"class\": \"sc-4984dd93-0 kKpPOn\"})\n",
    "        coin_name = name_tag.text\n",
    "\n",
    "        ticker_tag = row.find(\"p\", {\"class\": \"coin-item-symbol\"})\n",
    "        coin_ticker = ticker_tag.text\n",
    "\n",
    "        price_tag = row.find(\"div\", {\"class\": \"sc-a0353bbc-0\"})\n",
    "        coin_price = price_tag.text\n",
    "\n",
    "        change_tag = row.find_all(\"span\", {\"class\": \"sc-d55c02b-0\"})\n",
    "        change_1hr = change_tag[0].text\n",
    "        change_24hr = change_tag[1].text\n",
    "        change_7d = change_tag[2].text\n",
    "\n",
    "        market_cap_tag = row.find(\"span\", {\"class\": \"sc-7bc56c81-0\"})\n",
    "        market_cap = market_cap_tag.text\n",
    "\n",
    "        volume_24hr_tag = row.find(\n",
    "            \"p\", {\"class\": \"sc-4984dd93-0 jZrMxO font_weight_500\"}\n",
    "        )\n",
    "        volume_24hr = volume_24hr_tag.text\n",
    "        circ_supply_tag = row.find(\"p\", {\"class\": \"sc-4984dd93-0 WfVLk\"})\n",
    "        circ_supply = circ_supply_tag.text\n",
    "\n",
    "        tempCoin = Coin(\n",
    "            coin_logo=coin_logo,\n",
    "            coin_name=coin_name,\n",
    "            coin_ticker=coin_ticker,\n",
    "            coin_price=coin_price,\n",
    "            change_1hr=change_1hr,\n",
    "            change_24hr=change_24hr,\n",
    "            change_7d=change_7d,\n",
    "            market_cap=market_cap,\n",
    "            volume_24hr=volume_24hr,\n",
    "            circ_supply=circ_supply,\n",
    "        )\n",
    "\n",
    "        coins.append(tempCoin)\n",
    "\n",
    "    return coins"
   ]
  },
  {
   "cell_type": "code",
   "execution_count": 137,
   "metadata": {},
   "outputs": [
    {
     "ename": "NameError",
     "evalue": "name 'tempCoin' is not defined",
     "output_type": "error",
     "traceback": [
      "\u001b[1;31m---------------------------------------------------------------------------\u001b[0m",
      "\u001b[1;31mNameError\u001b[0m                                 Traceback (most recent call last)",
      "Cell \u001b[1;32mIn[137], line 1\u001b[0m\n\u001b[1;32m----> 1\u001b[0m \u001b[38;5;28mprint\u001b[39m(\u001b[43mgather_data\u001b[49m\u001b[43m(\u001b[49m\u001b[43msoup\u001b[49m\u001b[43m)\u001b[49m)\n",
      "Cell \u001b[1;32mIn[136], line 60\u001b[0m, in \u001b[0;36mgather_data\u001b[1;34m(soup)\u001b[0m\n\u001b[0;32m     44\u001b[0m     circ_supply \u001b[38;5;241m=\u001b[39m circ_supply_tag\u001b[38;5;241m.\u001b[39mtext\n\u001b[0;32m     47\u001b[0m     temCoin \u001b[38;5;241m=\u001b[39m Coin(\n\u001b[0;32m     48\u001b[0m         coin_logo\u001b[38;5;241m=\u001b[39mcoin_logo,\n\u001b[0;32m     49\u001b[0m         coin_name\u001b[38;5;241m=\u001b[39mcoin_name,\n\u001b[1;32m   (...)\u001b[0m\n\u001b[0;32m     57\u001b[0m         circ_supply\u001b[38;5;241m=\u001b[39mcirc_supply\n\u001b[0;32m     58\u001b[0m     )\n\u001b[1;32m---> 60\u001b[0m     coins\u001b[38;5;241m.\u001b[39mappend(\u001b[43mtempCoin\u001b[49m)\n\u001b[0;32m     63\u001b[0m \u001b[38;5;28;01mreturn\u001b[39;00m coins\n",
      "\u001b[1;31mNameError\u001b[0m: name 'tempCoin' is not defined"
     ]
    }
   ],
   "source": [
    "print(gather_data(soup))"
   ]
  },
  {
   "cell_type": "code",
   "execution_count": 129,
   "metadata": {},
   "outputs": [],
   "source": [
    "def gather_data(soup: BeautifulSoup) -> dict:\n",
    "    data = {\n",
    "        \"logos\": [],\n",
    "        \"names\": [],\n",
    "        \"tickers\": [],\n",
    "        \"prices\": [],\n",
    "        \"change_1hr\": [],\n",
    "        \"change_24hr\": [],\n",
    "        \"change_7d\": [],\n",
    "        \"market_cap\": [],\n",
    "        \"volume_24hr\": [],\n",
    "        \"circ_supply\": [],\n",
    "    }\n",
    "\n",
    "    table = soup.find(\"table\", class_=\"cmc-table\")\n",
    "    table_rows = table.find_all(\"tr\")\n",
    "\n",
    "    for row in table_rows[2:]:\n",
    "        img_tag = row.find(\"img\", {\"class\": \"coin-logo\"})[\"src\"]\n",
    "        data[\"logos\"].append(img_tag)\n",
    "        name_tag = row.find(\"p\", {\"class\": \"sc-4984dd93-0 kKpPOn\"})\n",
    "        data[\"names\"].append(name_tag.text)\n",
    "        ticker_tag = row.find(\"p\", {\"class\": \"coin-item-symbol\"})\n",
    "        data[\"tickers\"].append(ticker_tag.text)\n",
    "        price_tag = row.find(\"div\", {\"class\": \"sc-a0353bbc-0\"})\n",
    "        data[\"prices\"].append(price_tag.text)\n",
    "        change_tag = row.find_all(\"span\", {\"class\": \"sc-d55c02b-0\"})\n",
    "        data[\"change_1hr\"].append(change_tag[0].text)\n",
    "        data[\"change_24hr\"].append(change_tag[1].text)\n",
    "        data[\"change_7d\"].append(change_tag[2].text)\n",
    "        market_cap_tag = row.find(\"span\", {\"class\": \"sc-7bc56c81-0\"})\n",
    "        data[\"market_cap\"].append(market_cap_tag.text)\n",
    "        volume_24hr_tag = row.find(\n",
    "            \"p\", {\"class\": \"sc-4984dd93-0 jZrMxO font_weight_500\"}\n",
    "        )\n",
    "        data[\"volume_24hr\"].append(volume_24hr_tag.text)\n",
    "        circ_supply_tag = row.find(\"p\", {\"class\": \"sc-4984dd93-0 WfVLk\"})\n",
    "        data[\"circ_supply\"].append(circ_supply_tag.text)\n",
    "\n",
    "    return data"
   ]
  },
  {
   "cell_type": "code",
   "execution_count": 130,
   "metadata": {},
   "outputs": [
    {
     "name": "stdout",
     "output_type": "stream",
     "text": [
      "{'logos': ['https://s2.coinmarketcap.com/static/img/coins/64x64/1.png', 'https://s2.coinmarketcap.com/static/img/coins/64x64/1027.png', 'https://s2.coinmarketcap.com/static/img/coins/64x64/825.png', 'https://s2.coinmarketcap.com/static/img/coins/64x64/5426.png', 'https://s2.coinmarketcap.com/static/img/coins/64x64/1839.png', 'https://s2.coinmarketcap.com/static/img/coins/64x64/52.png', 'https://s2.coinmarketcap.com/static/img/coins/64x64/3408.png', 'https://s2.coinmarketcap.com/static/img/coins/64x64/2010.png', 'https://s2.coinmarketcap.com/static/img/coins/64x64/5805.png', 'https://s2.coinmarketcap.com/static/img/coins/64x64/74.png', 'https://s2.coinmarketcap.com/static/img/coins/64x64/6636.png', 'https://s2.coinmarketcap.com/static/img/coins/64x64/1958.png', 'https://s2.coinmarketcap.com/static/img/coins/64x64/1975.png', 'https://s2.coinmarketcap.com/static/img/coins/64x64/3890.png', 'https://s2.coinmarketcap.com/static/img/coins/64x64/11419.png', 'https://s2.coinmarketcap.com/static/img/coins/64x64/5994.png', 'https://s2.coinmarketcap.com/static/img/coins/64x64/4943.png', 'https://s2.coinmarketcap.com/static/img/coins/64x64/2.png', 'https://s2.coinmarketcap.com/static/img/coins/64x64/1831.png', 'https://s2.coinmarketcap.com/static/img/coins/64x64/3794.png', 'https://s2.coinmarketcap.com/static/img/coins/64x64/8916.png', 'https://s2.coinmarketcap.com/static/img/coins/64x64/6535.png', 'https://s2.coinmarketcap.com/static/img/coins/64x64/7083.png', 'https://s2.coinmarketcap.com/static/img/coins/64x64/512.png', 'https://s2.coinmarketcap.com/static/img/coins/64x64/3957.png', 'https://s2.coinmarketcap.com/static/img/coins/64x64/7226.png', 'https://s2.coinmarketcap.com/static/img/coins/64x64/3897.png', 'https://s2.coinmarketcap.com/static/img/coins/64x64/21794.png', 'https://s2.coinmarketcap.com/static/img/coins/64x64/328.png', 'https://s2.coinmarketcap.com/static/img/coins/64x64/11840.png', 'https://s2.coinmarketcap.com/static/img/coins/64x64/10603.png', 'https://s2.coinmarketcap.com/static/img/coins/64x64/1321.png', 'https://s2.coinmarketcap.com/static/img/coins/64x64/4642.png', 'https://s2.coinmarketcap.com/static/img/coins/64x64/2280.png', 'https://s2.coinmarketcap.com/static/img/coins/64x64/3077.png', 'https://s2.coinmarketcap.com/static/img/coins/64x64/3635.png', 'https://s2.coinmarketcap.com/static/img/coins/64x64/2563.png', 'https://s2.coinmarketcap.com/static/img/coins/64x64/20396.png', 'https://s2.coinmarketcap.com/static/img/coins/64x64/8000.png', 'https://s2.coinmarketcap.com/static/img/coins/64x64/4847.png', 'https://s2.coinmarketcap.com/static/img/coins/64x64/22861.png', 'https://s2.coinmarketcap.com/static/img/coins/64x64/4157.png', 'https://s2.coinmarketcap.com/static/img/coins/64x64/6892.png', 'https://s2.coinmarketcap.com/static/img/coins/64x64/27075.png', 'https://s2.coinmarketcap.com/static/img/coins/64x64/4030.png', 'https://s2.coinmarketcap.com/static/img/coins/64x64/6719.png', 'https://s2.coinmarketcap.com/static/img/coins/64x64/26081.png', 'https://s2.coinmarketcap.com/static/img/coins/64x64/11841.png', 'https://s2.coinmarketcap.com/static/img/coins/64x64/5690.png', 'https://s2.coinmarketcap.com/static/img/coins/64x64/28683.png', 'https://s2.coinmarketcap.com/static/img/coins/64x64/3155.png', 'https://s2.coinmarketcap.com/static/img/coins/64x64/25028.png', 'https://s2.coinmarketcap.com/static/img/coins/64x64/3513.png', 'https://s2.coinmarketcap.com/static/img/coins/64x64/7278.png', 'https://s2.coinmarketcap.com/static/img/coins/64x64/4558.png', 'https://s2.coinmarketcap.com/static/img/coins/64x64/2416.png', 'https://s2.coinmarketcap.com/static/img/coins/64x64/6783.png', 'https://s2.coinmarketcap.com/static/img/coins/64x64/1518.png', 'https://s2.coinmarketcap.com/static/img/coins/64x64/6210.png', 'https://s2.coinmarketcap.com/static/img/coins/64x64/2586.png', 'https://s2.coinmarketcap.com/static/img/coins/64x64/8646.png', 'https://s2.coinmarketcap.com/static/img/coins/64x64/4195.png', 'https://s2.coinmarketcap.com/static/img/coins/64x64/5665.png', 'https://s2.coinmarketcap.com/static/img/coins/64x64/16086.png', 'https://s2.coinmarketcap.com/static/img/coins/64x64/7548.png', 'https://s2.coinmarketcap.com/static/img/coins/64x64/23095.png', 'https://s2.coinmarketcap.com/static/img/coins/64x64/1966.png', 'https://s2.coinmarketcap.com/static/img/coins/64x64/2087.png', 'https://s2.coinmarketcap.com/static/img/coins/64x64/1376.png', 'https://s2.coinmarketcap.com/static/img/coins/64x64/4687.png', 'https://s2.coinmarketcap.com/static/img/coins/64x64/2011.png', 'https://s2.coinmarketcap.com/static/img/coins/64x64/28298.png', 'https://s2.coinmarketcap.com/static/img/coins/64x64/3602.png', 'https://s2.coinmarketcap.com/static/img/coins/64x64/1765.png', 'https://s2.coinmarketcap.com/static/img/coins/64x64/7080.png', 'https://s2.coinmarketcap.com/static/img/coins/64x64/4846.png', 'https://s2.coinmarketcap.com/static/img/coins/64x64/4172.png', 'https://s2.coinmarketcap.com/static/img/coins/64x64/23149.png', 'https://s2.coinmarketcap.com/static/img/coins/64x64/7653.png', 'https://s2.coinmarketcap.com/static/img/coins/64x64/1720.png', 'https://s2.coinmarketcap.com/static/img/coins/64x64/20947.png', 'https://s2.coinmarketcap.com/static/img/coins/64x64/11092.png', 'https://s2.coinmarketcap.com/static/img/coins/64x64/7501.png', 'https://s2.coinmarketcap.com/static/img/coins/64x64/4256.png', 'https://s2.coinmarketcap.com/static/img/coins/64x64/7186.png', 'https://s2.coinmarketcap.com/static/img/coins/64x64/12220.png', 'https://s2.coinmarketcap.com/static/img/coins/64x64/19891.png', 'https://s2.coinmarketcap.com/static/img/coins/64x64/7334.png', 'https://s2.coinmarketcap.com/static/img/coins/64x64/4066.png', 'https://s2.coinmarketcap.com/static/img/coins/64x64/5632.png', 'https://s2.coinmarketcap.com/static/img/coins/64x64/2634.png', 'https://s2.coinmarketcap.com/static/img/coins/64x64/10791.png', 'https://s2.coinmarketcap.com/static/img/coins/64x64/18876.png', 'https://s2.coinmarketcap.com/static/img/coins/64x64/6538.png', 'https://s2.coinmarketcap.com/static/img/coins/64x64/6953.png', 'https://s2.coinmarketcap.com/static/img/coins/64x64/23121.png', 'https://s2.coinmarketcap.com/static/img/coins/64x64/3773.png', 'https://s2.coinmarketcap.com/static/img/coins/64x64/20314.png', 'https://s2.coinmarketcap.com/static/img/coins/64x64/12885.png', 'https://s2.coinmarketcap.com/static/img/coins/64x64/24478.png'], 'names': ['Bitcoin', 'Ethereum', 'Tether USDt', 'Solana', 'BNB', 'XRP', 'USDC', 'Cardano', 'Avalanche', 'Dogecoin', 'Polkadot', 'TRON', 'Chainlink', 'Polygon', 'Toncoin', 'Shiba Inu', 'Dai', 'Litecoin', 'Bitcoin Cash', 'Cosmos', 'Internet Computer', 'NEAR Protocol', 'Uniswap', 'Stellar', 'UNUS SED LEO', 'Injective', 'OKB', 'Aptos', 'Monero', 'Optimism', 'Immutable', 'Ethereum Classic', 'Hedera', 'Filecoin', 'VeChain', 'Cronos', 'TrueUSD', 'Kaspa', 'Lido DAO', 'Stacks', 'Celestia', 'THORChain', 'MultiversX', 'Mantle', 'Algorand', 'The Graph', 'First Digital USD', 'Arbitrum', 'Render', 'SATS', 'Quant', 'ORDI', 'Fantom', 'Aave', 'Flow', 'Theta Network', 'Axie Infinity', 'Maker', 'The Sandbox', 'Synthetix', 'Mina', 'FTX Token', 'Helium', 'BitTorrent (New)', 'WEMIX', 'Bonk', 'Decentraland', 'KuCoin Token', 'Neo', 'BUSD', 'Tezos', 'Beam', 'Bitcoin SV', 'EOS', 'Gala', 'Kava', 'Terra Classic', 'Sei', 'Oasis Network', 'IOTA', 'Sui', 'Bitget Token', 'WOO Network', 'Klaytn', 'PancakeSwap', 'Osmosis', 'USDD', 'Conflux', 'Chiliz', 'Arweave', 'XDC Network', 'eCash', 'ApeCoin', 'Curve DAO Token', 'Frax Share', 'Blur', 'Fetch.ai', 'Terra', 'Astar', 'Pepe'], 'tickers': ['BTC', 'ETH', 'USDT', 'SOL', 'BNB', 'XRP', 'USDC', 'ADA', 'AVAX', 'DOGE', 'DOT', 'TRX', 'LINK', 'MATIC', 'TON', 'SHIB', 'DAI', 'LTC', 'BCH', 'ATOM', 'ICP', 'NEAR', 'UNI', 'XLM', 'LEO', 'INJ', 'OKB', 'APT', 'XMR', 'OP', 'IMX', 'ETC', 'HBAR', 'FIL', 'VET', 'CRO', 'TUSD', 'KAS', 'LDO', 'STX', 'TIA', 'RUNE', 'EGLD', 'MNT', 'ALGO', 'GRT', 'FDUSD', 'ARB', 'RNDR', '1000SATS', 'QNT', 'ORDI', 'FTM', 'AAVE', 'FLOW', 'THETA', 'AXS', 'MKR', 'SAND', 'SNX', 'MINA', 'FTT', 'HNT', 'BTT', 'WEMIX', 'BONK', 'MANA', 'KCS', 'NEO', 'BUSD', 'XTZ', 'BEAM', 'BSV', 'EOS', 'GALA', 'KAVA', 'LUNC', 'SEI', 'ROSE', 'IOTA', 'SUI', 'BGB', 'WOO', 'KLAY', 'CAKE', 'OSMO', 'USDD', 'CFX', 'CHZ', 'AR', 'XDC', 'XEC', 'APE', 'CRV', 'FXS', 'BLUR', 'FET', 'LUNA', 'ASTR', 'PEPE'], 'prices': ['$43,575.00', '$2,273.79', '$1.00', '$119.26', '$266.06', '$0.6419', '$0.9999', '$0.615', '$47.16', '$0.09353', '$9.12', '$0.1058', '$15.40', '$0.9036', '$2.23', '$0.00001099', '$0.9998', '$72.23', '$235.15', '$11.99', '$9.53', '$4.21', '$6.91', '$0.1304', '$3.94', '$41.82', '$54.28', '$10.43', '$172.54', '$3.45', '$2.39', '$21.39', '$0.09175', '$5.77', '$0.03839', '$0.09975', '$0.9977', '$0.1063', '$2.56', '$1.53', '$13.81', '$5.79', '$72.68', '$0.61', '$0.2357', '$0.1926', '$0.999', '$1.37', '$4.58', '$0.0008045', '$137.51', '$74.33', '$0.5483', '$101.68', '$0.9992', '$1.37', '$10.22', '$1,411.57', '$0.6085', '$4.02', '$1.18', '$3.62', '$7.44', '$0.000001226', '$3.31', '$0.0000186', '$0.5601', '$10.95', '$14.73', '$1.00', '$1.04', '$0.0209', '$50.84', '$0.8834', '$0.03506', '$0.8829', '$0.0001584', '$0.3939', '$0.1328', '$0.2904', '$0.8071', '$0.5933', '$0.4545', '$0.24', '$2.87', '$1.57', '$0.9882', '$0.1988', '$0.08955', '$10.58', '$0.04833', '$0.00003398', '$1.79', '$0.6413', '$8.53', '$0.5246', '$0.7348', '$0.9766', '$0.1089', '$0.000001396'], 'change_1hr': ['0.25%', '0.68%', '0.00%', '3.37%', '0.61%', '0.19%', '0.00%', '1.01%', '1.10%', '0.83%', '0.90%', '0.52%', '0.80%', '0.35%', '1.03%', '0.46%', '0.05%', '0.08%', '0.33%', '0.92%', '0.21%', '1.08%', '0.51%', '0.71%', '0.25%', '0.03%', '0.25%', '0.78%', '0.03%', '0.78%', '0.59%', '0.43%', '0.34%', '1.40%', '2.39%', '0.34%', '0.02%', '0.00%', '0.48%', '0.41%', '1.06%', '0.47%', '0.41%', '0.09%', '0.56%', '0.72%', '0.01%', '0.45%', '0.27%', '0.21%', '0.20%', '0.49%', '0.98%', '0.45%', '0.33%', '0.50%', '0.29%', '0.32%', '1.23%', '0.40%', '1.64%', '0.16%', '0.32%', '0.14%', '0.24%', '1.00%', '0.40%', '0.33%', '0.44%', '0.02%', '0.70%', '0.55%', '0.02%', '1.15%', '0.13%', '0.30%', '0.69%', '0.60%', '0.54%', '0.13%', '0.16%', '0.15%', '0.13%', '0.21%', '0.15%', '0.23%', '0.01%', '0.93%', '0.18%', '0.13%', '0.01%', '0.93%', '0.26%', '0.09%', '0.13%', '0.18%', '1.16%', '0.60%', '0.17%', '0.24%'], 'change_24hr': ['0.04%', '0.32%', '0.04%', '4.95%', '0.36%', '3.66%', '0.01%', '0.02%', '3.14%', '0.12%', '2.57%', '1.45%', '1.09%', '4.59%', '1.39%', '1.71%', '0.02%', '0.45%', '2.01%', '4.89%', '3.36%', '13.45%', '1.61%', '2.82%', '0.67%', '1.92%', '1.10%', '11.26%', '0.66%', '0.86%', '0.61%', '1.56%', '0.80%', '2.59%', '10.65%', '0.61%', '0.13%', '0.51%', '5.79%', '8.65%', '3.61%', '6.28%', '0.25%', '2.59%', '1.00%', '0.93%', '0.09%', '0.01%', '0.60%', '28.18%', '4.51%', '41.97%', '4.23%', '0.81%', '5.63%', '8.27%', '15.08%', '0.11%', '6.73%', '2.35%', '2.47%', '3.80%', '2.78%', '1.44%', '0.68%', '0.61%', '3.53%', '1.48%', '6.87%', '0.04%', '4.98%', '8.71%', '3.33%', '7.01%', '11.98%', '1.50%', '0.52%', '10.30%', '0.81%', '2.99%', '11.06%', '0.36%', '0.77%', '1.27%', '0.16%', '0.30%', '0.13%', '2.03%', '2.54%', '4.31%', '0.48%', '2.55%', '4.52%', '2.54%', '1.46%', '2.79%', '1.86%', '2.70%', '1.11%', '1.19%'], 'change_7d': ['2.62%', '2.59%', '0.04%', '59.75%', '10.58%', '5.39%', '0.01%', '6.12%', '18.36%', '3.47%', '35.91%', '5.90%', '5.59%', '13.12%', '5.28%', '5.14%', '0.08%', '2.00%', '3.53%', '10.39%', '5.36%', '82.85%', '16.77%', '7.76%', '4.33%', '20.65%', '1.17%', '31.93%', '0.30%', '55.40%', '12.71%', '7.57%', '16.69%', '8.35%', '21.50%', '1.91%', '0.09%', '1.48%', '19.97%', '25.46%', '9.51%', '5.43%', '22.17%', '7.80%', '20.94%', '23.76%', '0.06%', '24.80%', '4.43%', '17.54%', '25.39%', '48.51%', '32.28%', '2.53%', '29.33%', '35.66%', '48.72%', '9.45%', '23.17%', '9.55%', '63.91%', '2.62%', '4.80%', '5.22%', '1.54%', '10.57%', '18.92%', '4.07%', '17.63%', '0.06%', '17.65%', '4.62%', '5.41%', '13.94%', '20.22%', '14.21%', '4.90%', '37.48%', '49.96%', '8.04%', '32.91%', '2.14%', '6.60%', '0.20%', '29.45%', '11.90%', '0.03%', '8.76%', '13.43%', '13.69%', '1.33%', '6.28%', '8.60%', '3.91%', '0.31%', '18.64%', '7.72%', '8.55%', '9.18%', '6.30%'], 'market_cap': ['$853.25B', '$273.4B', '$91.29B', '$50.9B', '$40.36B', '$34.69B', '$25.05B', '$21.94B', '$17.4B', '$13.42B', '$11.57B', '$9.37B', '$8.76B', '$8.64B', '$7.69B', '$6.48B', '$5.35B', '$5.35B', '$4.61B', '$4.55B', '$4.33B', '$4.23B', '$4.13B', '$3.68B', '$3.65B', '$3.5B', '$3.26B', '$3.19B', '$3.17B', '$3.14B', '$3.1B', '$3.09B', '$3.08B', '$2.8B', '$2.79B', '$2.52B', '$2.43B', '$2.35B', '$2.27B', '$2.19B', '$2.12B', '$1.96B', '$1.92B', '$1.91B', '$1.89B', '$1.8B', '$1.79B', '$1.75B', '$1.71B', '$1.72B', '$1.66B', '$1.58B', '$1.54B', '$1.49B', '$1.48B', '$1.37B', '$1.35B', '$1.3B', '$1.29B', '$1.21B', '$1.21B', '$1.19B', '$1.18B', '$1.17B', '$1.15B', '$1.13B', '$1.06B', '$1.06B', '$1.04B', '$1.01B', '$1B', '$999.59M', '$996.15M', '$982.84M', '$944.24M', '$937.62M', '$927.31M', '$905.93M', '$891.35M', '$887.88M', '$833.93M', '$830.59M', '$818.86M', '$787.24M', '$777.48M', '$771.24M', '$716.85M', '$706.79M', '$693.99M', '$692.26M', '$671.11M', '$665.66M', '$660.41M', '$656.51M', '$647.45M', '$620.24M', '$609.46M', '$599.79M', '$589.57M', '$587.2M'], 'volume_24hr': ['$23,845,844,868', '$8,778,628,386', '$67,509,433,941', '$5,956,890,991', '$769,368,009', '$1,847,871,617', '$4,934,125,084', '$710,462,814', '$1,224,522,695', '$492,568,466', '$909,434,256', '$276,250,889', '$472,448,078', '$706,724,440', '$46,369,087', '$193,407,150', '$224,826,475', '$296,462,582', '$200,787,038', '$266,489,370', '$133,458,013', '$610,938,505', '$206,042,636', '$104,674,581', '$1,323,110', '$289,766,491', '$7,512,981', '$401,327,340', '$72,523,372', '$672,994,304', '$118,446,194', '$199,078,759', '$84,236,318', '$288,101,542', '$106,749,539', '$11,049,832', '$313,385,369', '$37,637,543', '$181,445,964', '$274,825,129', '$303,337,540', '$340,222,870', '$193,992,595', '$66,203,098', '$92,774,794', '$90,216,690', '$2,117,190,178', '$576,197,442', '$93,155,008', '$348,755,351', '$102,430,476', '$1,184,842,390', '$212,839,819', '$207,128,725', '$156,149,576', '$81,324,398', '$727,831,070', '$51,870,815', '$409,661,619', '$61,173,121', '$272,069,972', '$43,840,580', '$25,279,748', '$46,302,961', '$38,515,874', '$198,681,111', '$203,243,346', '$2,525,761', '$93,235,164', '$46,821,082', '$54,108,064', '$52,814,968', '$48,832,697', '$166,704,554', '$261,833,300', '$27,814,011', '$64,743,406', '$445,919,386', '$114,043,827', '$23,110,797', '$292,118,200', '$16,571,960', '$38,694,481', '$17,643,690', '$144,219,495', '$44,915,772', '$19,187,322', '$68,496,968', '$79,270,532', '$31,163,408', '$15,113,363', '$12,502,276', '$95,862,558', '$72,321,529', '$32,317,538', '$140,890,500', '$99,402,580', '$69,436,076', '$47,604,547', '$96,464,951'], 'circ_supply': ['19,580,750 BTC', '120,183,925 ETH', '91,260,809,555 USDT', '427,471,338 SOL', '151,693,605 BNB', '54,065,019,376 XRP', '25,050,826,242 USDC', '35,354,369,016 ADA', '365,427,214 AVAX', '142,383,466,384 DOGE', '1,260,271,886 DOT', '88,354,417,586 TRX', '568,099,970 LINK', '9,555,301,571 MATIC', '3,455,540,942 TON', '589,300,635,055,183 SHIB', '5,347,888,596 DAI', '74,019,539 LTC', '19,595,513 BCH', '380,312,203 ATOM', '453,450,120 ICP', '1,004,666,471 NEAR', '598,187,016 UNI', '28,240,106,217 XLM', '928,121,555 LEO', '83,755,556 INJ', '60,000,000 OKB', '306,483,252 APT', '18,375,762 XMR', '911,294,948 OP', '1,296,459,367 IMX', '144,706,114 ETC', '33,612,614,664 HBAR', '485,377,874 FIL', '72,714,516,834 VET', '25,263,013,692 CRO', '2,431,636,023 TUSD', '22,061,477,545 KAS', '890,169,178 LDO', '1,429,374,012 STX', '153,098,322 TIA', '337,431,921 RUNE', '26,371,227 EGLD', '3,130,673,946 MNT', '8,004,834,147 ALGO', '9,361,595,546 GRT', '1,795,341,367 FDUSD', '1,275,000,000 ARB', '371,908,453 RNDR', '2,100,000,000,000 1000SATS', '12,072,738 QNT', '21,000,000 ORDI', '2,803,634,836 FTM', '14,673,856 AAVE', '1,478,118,922 FLOW', '1,000,000,000 THETA', '132,040,367 AXS', '918,885 MKR', '2,118,731,926 SAND', '301,029,266 SNX', '1,023,606,289 MINA', '328,895,104 FTT', '159,206,518 HNT', '951,421,714,286,000 BTT', '347,920,625 WEMIX', '60,837,624,528,359 BONK', '1,893,095,371 MANA', '96,732,986 KCS', '70,538,831 NEO', '1,012,420,542 BUSD', '964,666,645 XTZ', '47,892,189,743 BEAM', '19,588,756 BSV', '1,112,343,765 EOS', '26,933,512,339 GALA', '1,061,740,827 KAVA', '5,859,506,081,767 LUNC', '2,300,000,000 SEI', '6,713,599,876 ROSE', '3,057,265,852 IOTA', '1,033,262,463 SUI', '1,400,000,000 BGB', '1,801,553,287 WOO', '3,279,610,649 KLAY', '270,352,794 CAKE', '492,590,761 OSMO', '725,332,034 USDD', '3,555,005,045 CFX', '7,749,332,980 CHZ', '65,454,185 AR', '13,886,666,835 XDC', '19,588,892,173,092 XEC', '368,593,750 APE', '1,023,661,788 CRV', '75,871,621 FXS', '1,182,292,456 BLUR', '829,402,819 FET', '614,189,492 LUNA', '5,418,062,785 ASTR', '420,689,899,999,995 PEPE']}\n"
     ]
    }
   ],
   "source": [
    "print(gather_data(soup))"
   ]
  },
  {
   "cell_type": "code",
   "execution_count": 125,
   "metadata": {},
   "outputs": [
    {
     "name": "stdout",
     "output_type": "stream",
     "text": [
      "{'logos': ['https://s2.coinmarketcap.com/static/img/coins/64x64/1.png', 'https://s2.coinmarketcap.com/static/img/coins/64x64/1027.png', 'https://s2.coinmarketcap.com/static/img/coins/64x64/825.png', 'https://s2.coinmarketcap.com/static/img/coins/64x64/5426.png', 'https://s2.coinmarketcap.com/static/img/coins/64x64/1839.png', 'https://s2.coinmarketcap.com/static/img/coins/64x64/52.png', 'https://s2.coinmarketcap.com/static/img/coins/64x64/3408.png', 'https://s2.coinmarketcap.com/static/img/coins/64x64/2010.png', 'https://s2.coinmarketcap.com/static/img/coins/64x64/5805.png', 'https://s2.coinmarketcap.com/static/img/coins/64x64/74.png', 'https://s2.coinmarketcap.com/static/img/coins/64x64/6636.png', 'https://s2.coinmarketcap.com/static/img/coins/64x64/1958.png', 'https://s2.coinmarketcap.com/static/img/coins/64x64/1975.png', 'https://s2.coinmarketcap.com/static/img/coins/64x64/3890.png', 'https://s2.coinmarketcap.com/static/img/coins/64x64/11419.png', 'https://s2.coinmarketcap.com/static/img/coins/64x64/5994.png', 'https://s2.coinmarketcap.com/static/img/coins/64x64/4943.png', 'https://s2.coinmarketcap.com/static/img/coins/64x64/2.png', 'https://s2.coinmarketcap.com/static/img/coins/64x64/1831.png', 'https://s2.coinmarketcap.com/static/img/coins/64x64/3794.png', 'https://s2.coinmarketcap.com/static/img/coins/64x64/8916.png', 'https://s2.coinmarketcap.com/static/img/coins/64x64/6535.png', 'https://s2.coinmarketcap.com/static/img/coins/64x64/7083.png', 'https://s2.coinmarketcap.com/static/img/coins/64x64/3957.png', 'https://s2.coinmarketcap.com/static/img/coins/64x64/512.png', 'https://s2.coinmarketcap.com/static/img/coins/64x64/7226.png', 'https://s2.coinmarketcap.com/static/img/coins/64x64/3897.png', 'https://s2.coinmarketcap.com/static/img/coins/64x64/21794.png', 'https://s2.coinmarketcap.com/static/img/coins/64x64/11840.png', 'https://s2.coinmarketcap.com/static/img/coins/64x64/328.png', 'https://s2.coinmarketcap.com/static/img/coins/64x64/1321.png', 'https://s2.coinmarketcap.com/static/img/coins/64x64/10603.png', 'https://s2.coinmarketcap.com/static/img/coins/64x64/4642.png', 'https://s2.coinmarketcap.com/static/img/coins/64x64/2280.png', 'https://s2.coinmarketcap.com/static/img/coins/64x64/3077.png', 'https://s2.coinmarketcap.com/static/img/coins/64x64/3635.png', 'https://s2.coinmarketcap.com/static/img/coins/64x64/2563.png', 'https://s2.coinmarketcap.com/static/img/coins/64x64/20396.png', 'https://s2.coinmarketcap.com/static/img/coins/64x64/8000.png', 'https://s2.coinmarketcap.com/static/img/coins/64x64/4847.png', 'https://s2.coinmarketcap.com/static/img/coins/64x64/22861.png', 'https://s2.coinmarketcap.com/static/img/coins/64x64/4157.png', 'https://s2.coinmarketcap.com/static/img/coins/64x64/6892.png', 'https://s2.coinmarketcap.com/static/img/coins/64x64/27075.png', 'https://s2.coinmarketcap.com/static/img/coins/64x64/4030.png', 'https://s2.coinmarketcap.com/static/img/coins/64x64/26081.png', 'https://s2.coinmarketcap.com/static/img/coins/64x64/6719.png', 'https://s2.coinmarketcap.com/static/img/coins/64x64/11841.png', 'https://s2.coinmarketcap.com/static/img/coins/64x64/5690.png', 'https://s2.coinmarketcap.com/static/img/coins/64x64/3155.png', 'https://s2.coinmarketcap.com/static/img/coins/64x64/28683.png', 'https://s2.coinmarketcap.com/static/img/coins/64x64/25028.png', 'https://s2.coinmarketcap.com/static/img/coins/64x64/3513.png', 'https://s2.coinmarketcap.com/static/img/coins/64x64/7278.png', 'https://s2.coinmarketcap.com/static/img/coins/64x64/4558.png', 'https://s2.coinmarketcap.com/static/img/coins/64x64/2416.png', 'https://s2.coinmarketcap.com/static/img/coins/64x64/6783.png', 'https://s2.coinmarketcap.com/static/img/coins/64x64/1518.png', 'https://s2.coinmarketcap.com/static/img/coins/64x64/6210.png', 'https://s2.coinmarketcap.com/static/img/coins/64x64/8646.png', 'https://s2.coinmarketcap.com/static/img/coins/64x64/2586.png', 'https://s2.coinmarketcap.com/static/img/coins/64x64/4195.png', 'https://s2.coinmarketcap.com/static/img/coins/64x64/5665.png', 'https://s2.coinmarketcap.com/static/img/coins/64x64/16086.png', 'https://s2.coinmarketcap.com/static/img/coins/64x64/7548.png', 'https://s2.coinmarketcap.com/static/img/coins/64x64/23095.png', 'https://s2.coinmarketcap.com/static/img/coins/64x64/2087.png', 'https://s2.coinmarketcap.com/static/img/coins/64x64/1966.png', 'https://s2.coinmarketcap.com/static/img/coins/64x64/1376.png', 'https://s2.coinmarketcap.com/static/img/coins/64x64/4687.png', 'https://s2.coinmarketcap.com/static/img/coins/64x64/28298.png', 'https://s2.coinmarketcap.com/static/img/coins/64x64/2011.png', 'https://s2.coinmarketcap.com/static/img/coins/64x64/3602.png', 'https://s2.coinmarketcap.com/static/img/coins/64x64/1765.png', 'https://s2.coinmarketcap.com/static/img/coins/64x64/4846.png', 'https://s2.coinmarketcap.com/static/img/coins/64x64/7080.png', 'https://s2.coinmarketcap.com/static/img/coins/64x64/4172.png', 'https://s2.coinmarketcap.com/static/img/coins/64x64/23149.png', 'https://s2.coinmarketcap.com/static/img/coins/64x64/7653.png', 'https://s2.coinmarketcap.com/static/img/coins/64x64/1720.png', 'https://s2.coinmarketcap.com/static/img/coins/64x64/11092.png', 'https://s2.coinmarketcap.com/static/img/coins/64x64/20947.png', 'https://s2.coinmarketcap.com/static/img/coins/64x64/7501.png', 'https://s2.coinmarketcap.com/static/img/coins/64x64/4256.png', 'https://s2.coinmarketcap.com/static/img/coins/64x64/7186.png', 'https://s2.coinmarketcap.com/static/img/coins/64x64/12220.png', 'https://s2.coinmarketcap.com/static/img/coins/64x64/19891.png', 'https://s2.coinmarketcap.com/static/img/coins/64x64/7334.png', 'https://s2.coinmarketcap.com/static/img/coins/64x64/5632.png', 'https://s2.coinmarketcap.com/static/img/coins/64x64/4066.png', 'https://s2.coinmarketcap.com/static/img/coins/64x64/2634.png', 'https://s2.coinmarketcap.com/static/img/coins/64x64/10791.png', 'https://s2.coinmarketcap.com/static/img/coins/64x64/18876.png', 'https://s2.coinmarketcap.com/static/img/coins/64x64/6538.png', 'https://s2.coinmarketcap.com/static/img/coins/64x64/6953.png', 'https://s2.coinmarketcap.com/static/img/coins/64x64/23121.png', 'https://s2.coinmarketcap.com/static/img/coins/64x64/3773.png', 'https://s2.coinmarketcap.com/static/img/coins/64x64/20314.png', 'https://s2.coinmarketcap.com/static/img/coins/64x64/24478.png', 'https://s2.coinmarketcap.com/static/img/coins/64x64/12885.png'], 'names': ['Bitcoin', 'Ethereum', 'Tether USDt', 'Solana', 'BNB', 'XRP', 'USDC', 'Cardano', 'Avalanche', 'Dogecoin', 'Polkadot', 'TRON', 'Chainlink', 'Polygon', 'Toncoin', 'Shiba Inu', 'Dai', 'Litecoin', 'Bitcoin Cash', 'Cosmos', 'Internet Computer', 'NEAR Protocol', 'Uniswap', 'UNUS SED LEO', 'Stellar', 'Injective', 'OKB', 'Aptos', 'Optimism', 'Monero', 'Ethereum Classic', 'Immutable', 'Hedera', 'Filecoin', 'VeChain', 'Cronos', 'TrueUSD', 'Kaspa', 'Lido DAO', 'Stacks', 'Celestia', 'THORChain', 'MultiversX', 'Mantle', 'Algorand', 'First Digital USD', 'The Graph', 'Arbitrum', 'Render', 'Quant', 'SATS', 'ORDI', 'Fantom', 'Aave', 'Flow', 'Theta Network', 'Axie Infinity', 'Maker', 'The Sandbox', 'Mina', 'Synthetix', 'FTX Token', 'Helium', 'BitTorrent (New)', 'WEMIX', 'Bonk', 'KuCoin Token', 'Decentraland', 'Neo', 'BUSD', 'Beam', 'Tezos', 'Bitcoin SV', 'EOS', 'Kava', 'Gala', 'Terra Classic', 'Sei', 'Oasis Network', 'IOTA', 'Bitget Token', 'Sui', 'WOO Network', 'Klaytn', 'PancakeSwap', 'Osmosis', 'USDD', 'Conflux', 'Arweave', 'Chiliz', 'XDC Network', 'eCash', 'ApeCoin', 'Curve DAO Token', 'Frax Share', 'Blur', 'Fetch.ai', 'Terra', 'Pepe', 'Astar'], 'tickers': ['BTC', 'ETH', 'USDT', 'SOL', 'BNB', 'XRP', 'USDC', 'ADA', 'AVAX', 'DOGE', 'DOT', 'TRX', 'LINK', 'MATIC', 'TON', 'SHIB', 'DAI', 'LTC', 'BCH', 'ATOM', 'ICP', 'NEAR', 'UNI', 'LEO', 'XLM', 'INJ', 'OKB', 'APT', 'OP', 'XMR', 'ETC', 'IMX', 'HBAR', 'FIL', 'VET', 'CRO', 'TUSD', 'KAS', 'LDO', 'STX', 'TIA', 'RUNE', 'EGLD', 'MNT', 'ALGO', 'FDUSD', 'GRT', 'ARB', 'RNDR', 'QNT', '1000SATS', 'ORDI', 'FTM', 'AAVE', 'FLOW', 'THETA', 'AXS', 'MKR', 'SAND', 'MINA', 'SNX', 'FTT', 'HNT', 'BTT', 'WEMIX', 'BONK', 'KCS', 'MANA', 'NEO', 'BUSD', 'BEAM', 'XTZ', 'BSV', 'EOS', 'KAVA', 'GALA', 'LUNC', 'SEI', 'ROSE', 'IOTA', 'BGB', 'SUI', 'WOO', 'KLAY', 'CAKE', 'OSMO', 'USDD', 'CFX', 'AR', 'CHZ', 'XDC', 'XEC', 'APE', 'CRV', 'FXS', 'BLUR', 'FET', 'LUNA', 'PEPE', 'ASTR'], 'prices': ['$43,373.00', '$2,263.34', '$1.00', '$118.26', '$264.78', '$0.6386', '$0.9999', '$0.6161', '$47.12', '$0.09365', '$9.08', '$0.1057', '$15.24', '$0.9003', '$2.22', '$0.0000109', '$0.9993', '$71.88', '$233.70', '$11.81', '$9.46', '$4.26', '$6.87', '$3.94', '$0.129', '$41.39', '$54.23', '$10.33', '$3.47', '$172.14', '$21.39', '$2.37', '$0.09117', '$5.68', '$0.03732', '$0.09962', '$0.9983', '$0.1075', '$2.53', '$1.53', '$13.86', '$5.75', '$72.66', '$0.6127', '$0.2338', '$0.9993', '$0.1882', '$1.36', '$4.55', '$137.81', '$0.0007916', '$73.39', '$0.5406', '$100.76', '$0.9924', '$1.36', '$10.09', '$1,406.05', '$0.5994', '$1.20', '$4.00', '$3.60', '$7.42', '$0.000001224', '$3.29', '$0.00001831', '$10.90', '$0.5559', '$14.54', '$0.9994', '$0.02082', '$1.03', '$50.78', '$0.8684', '$0.8818', '$0.03478', '$0.0001568', '$0.3972', '$0.1339', '$0.289', '$0.594', '$0.8013', '$0.45', '$0.2393', '$2.87', '$1.57', '$0.9883', '$0.1964', '$10.53', '$0.089', '$0.04828', '$0.00003365', '$1.78', '$0.6379', '$8.48', '$0.5218', '$0.7189', '$0.9653', '$0.000001388', '$0.1083'], 'change_1hr': ['0.17%', '0.57%', '0.00%', '2.84%', '0.55%', '0.01%', '0.01%', '0.85%', '1.33%', '0.67%', '1.34%', '0.54%', '1.02%', '0.78%', '0.14%', '0.43%', '0.05%', '0.34%', '0.20%', '0.93%', '0.37%', '0.77%', '1.04%', '0.02%', '0.47%', '2.17%', '0.08%', '2.43%', '0.82%', '0.40%', '0.42%', '1.15%', '0.63%', '0.92%', '0.14%', '0.84%', '0.01%', '0.16%', '1.03%', '1.05%', '0.88%', '0.57%', '0.18%', '0.32%', '1.08%', '0.07%', '0.50%', '1.38%', '1.43%', '1.77%', '1.29%', '1.16%', '1.61%', '0.92%', '1.53%', '1.06%', '0.88%', '0.83%', '1.04%', '0.30%', '1.49%', '0.84%', '1.74%', '1.09%', '0.07%', '1.56%', '0.09%', '1.12%', '0.47%', '0.05%', '2.92%', '1.37%', '0.18%', '1.04%', '0.22%', '2.30%', '0.96%', '4.13%', '0.77%', '1.20%', '0.02%', '1.95%', '1.09%', '0.91%', '0.89%', '0.13%', '0.07%', '1.54%', '1.10%', '0.21%', '0.09%', '1.12%', '1.49%', '0.86%', '0.97%', '1.35%', '1.28%', '0.76%', '1.41%', '1.10%'], 'change_24hr': ['0.40%', '0.66%', '0.06%', '5.29%', '1.00%', '2.74%', '0.01%', '0.11%', '2.27%', '0.03%', '2.99%', '1.42%', '2.35%', '3.26%', '0.85%', '0.60%', '0.02%', '0.22%', '1.11%', '2.67%', '5.19%', '14.62%', '1.47%', '0.46%', '1.83%', '0.69%', '1.43%', '10.42%', '1.74%', '0.68%', '1.14%', '0.14%', '0.50%', '0.68%', '6.93%', '0.10%', '0.07%', '0.68%', '4.89%', '7.90%', '7.33%', '8.11%', '0.20%', '2.47%', '0.54%', '0.07%', '1.73%', '0.68%', '2.08%', '5.70%', '25.66%', '40.45%', '1.99%', '0.63%', '4.73%', '6.28%', '13.10%', '0.46%', '6.27%', '1.91%', '3.55%', '4.55%', '3.16%', '1.35%', '0.41%', '1.78%', '1.04%', '3.30%', '5.31%', '0.04%', '8.12%', '3.73%', '2.88%', '4.78%', '1.58%', '10.77%', '0.80%', '11.01%', '2.26%', '1.98%', '0.39%', '10.03%', '0.44%', '1.66%', '0.97%', '0.37%', '0.14%', '0.33%', '4.91%', '0.95%', '0.23%', '1.41%', '4.08%', '1.71%', '2.16%', '1.91%', '0.99%', '1.51%', '0.64%', '0.41%'], 'change_7d': ['3.47%', '3.77%', '0.02%', '62.97%', '10.82%', '5.18%', '0.03%', '6.43%', '18.15%', '3.65%', '35.14%', '5.64%', '6.22%', '14.96%', '5.94%', '5.99%', '0.12%', '2.34%', '3.80%', '10.37%', '5.72%', '92.69%', '18.04%', '4.58%', '7.42%', '25.36%', '1.07%', '32.84%', '58.60%', '0.21%', '9.19%', '15.91%', '17.69%', '7.41%', '21.02%', '3.69%', '0.07%', '2.58%', '21.14%', '26.15%', '13.39%', '6.56%', '24.53%', '9.24%', '23.71%', '0.10%', '23.41%', '26.36%', '4.03%', '26.59%', '19.15%', '49.00%', '31.88%', '3.26%', '31.02%', '37.09%', '49.93%', '9.44%', '24.21%', '69.03%', '10.55%', '4.74%', '3.49%', '7.54%', '3.22%', '6.66%', '1.57%', '20.25%', '18.78%', '0.14%', '6.33%', '18.96%', '7.30%', '13.79%', '14.08%', '21.65%', '5.41%', '47.26%', '52.45%', '9.35%', '2.08%', '33.96%', '7.20%', '1.55%', '30.08%', '12.94%', '0.06%', '9.06%', '15.88%', '13.63%', '1.53%', '6.80%', '9.88%', '5.33%', '0.34%', '20.68%', '7.46%', '9.25%', '8.58%', '9.17%'], 'market_cap': ['$848.92B', '$271.99B', '$91.27B', '$50.62B', '$40.17B', '$34.59B', '$25.05B', '$21.74B', '$17.22B', '$13.32B', '$11.45B', '$9.34B', '$8.66B', '$8.61B', '$7.68B', '$6.42B', '$5.34B', '$5.32B', '$4.58B', '$4.49B', '$4.3B', '$4.28B', '$4.11B', '$3.66B', '$3.64B', '$3.46B', '$3.25B', '$3.17B', '$3.16B', '$3.16B', '$3.1B', '$3.08B', '$3.06B', '$2.76B', '$2.7B', '$2.5B', '$2.43B', '$2.35B', '$2.25B', '$2.19B', '$2.12B', '$1.94B', '$1.92B', '$1.91B', '$1.88B', '$1.79B', '$1.76B', '$1.74B', '$1.69B', '$1.66B', '$1.66B', '$1.54B', '$1.52B', '$1.48B', '$1.47B', '$1.36B', '$1.33B', '$1.29B', '$1.27B', '$1.23B', '$1.2B', '$1.18B', '$1.18B', '$1.16B', '$1.15B', '$1.11B', '$1.06B', '$1.05B', '$1.03B', '$1.01B', '$996.96M', '$995.9M', '$994.64M', '$965.99M', '$936.23M', '$936.8M', '$919.3M', '$913.59M', '$898.8M', '$884.2M', '$832.04M', '$829.08M', '$810.76M', '$784.67M', '$775.22M', '$772M', '$716.83M', '$697.31M', '$689.55M', '$690.71M', '$670.39M', '$659.12M', '$655.81M', '$653.62M', '$643.07M', '$616.93M', '$595.97M', '$593.43M', '$584.65M', '$586.81M'], 'volume_24hr': ['$23,803,008,350', '$8,751,392,549', '$67,434,360,946', '$5,910,968,848', '$769,147,415', '$1,845,310,518', '$4,916,481,284', '$709,639,008', '$1,217,349,683', '$491,245,477', '$909,834,450', '$276,491,413', '$461,910,055', '$700,476,374', '$46,008,166', '$196,194,640', '$221,463,875', '$295,759,522', '$202,259,648', '$256,679,758', '$137,334,810', '$586,480,423', '$213,463,621', '$1,468,631', '$104,826,411', '$298,650,510', '$7,700,678', '$394,178,090', '$679,290,427', '$73,062,763', '$193,748,346', '$117,715,778', '$89,842,180', '$287,018,228', '$101,889,373', '$11,166,570', '$316,012,272', '$38,593,298', '$181,909,052', '$274,331,279', '$319,288,010', '$342,060,605', '$197,503,017', '$67,551,971', '$94,507,651', '$2,109,742,951', '$91,136,202', '$579,262,084', '$95,442,518', '$130,837,398', '$345,838,343', '$1,159,551,347', '$214,616,049', '$208,913,187', '$155,809,223', '$82,534,374', '$735,939,334', '$52,678,950', '$415,118,631', '$277,638,141', '$61,120,311', '$43,977,152', '$25,504,289', '$48,134,236', '$39,357,027', '$202,952,333', '$2,480,432', '$206,224,231', '$92,644,247', '$46,852,245', '$52,812,882', '$53,943,841', '$48,697,580', '$166,447,937', '$28,481,587', '$260,007,429', '$67,112,123', '$443,392,771', '$115,460,022', '$23,283,286', '$16,582,114', '$292,152,204', '$38,255,650', '$17,646,886', '$145,545,988', '$41,567,592', '$19,495,561', '$68,165,371', '$31,349,937', '$79,165,496', '$15,103,300', '$12,437,957', '$96,111,997', '$71,849,125', '$32,201,517', '$142,941,848', '$99,933,916', '$70,210,639', '$98,903,925', '$47,386,224'], 'circ_supply': ['19,580,750 BTC', '120,183,925 ETH', '91,260,809,555 USDT', '427,471,338 SOL', '151,693,605 BNB', '54,065,019,376 XRP', '25,050,826,242 USDC', '35,354,369,016 ADA', '365,427,214 AVAX', '142,383,466,384 DOGE', '1,260,271,886 DOT', '88,354,417,586 TRX', '568,099,970 LINK', '9,555,301,571 MATIC', '3,455,540,942 TON', '589,300,635,055,183 SHIB', '5,347,888,596 DAI', '74,019,539 LTC', '19,595,513 BCH', '380,312,203 ATOM', '453,450,120 ICP', '1,004,666,471 NEAR', '598,187,016 UNI', '928,121,555 LEO', '28,240,106,217 XLM', '83,755,556 INJ', '60,000,000 OKB', '306,483,252 APT', '911,294,948 OP', '18,375,762 XMR', '144,706,114 ETC', '1,296,459,367 IMX', '33,612,614,664 HBAR', '485,377,874 FIL', '72,714,516,834 VET', '25,263,013,692 CRO', '2,431,636,023 TUSD', '22,061,477,545 KAS', '890,169,178 LDO', '1,429,374,012 STX', '153,098,322 TIA', '337,431,921 RUNE', '26,371,227 EGLD', '3,130,673,946 MNT', '8,004,834,147 ALGO', '1,795,341,367 FDUSD', '9,361,595,546 GRT', '1,275,000,000 ARB', '371,908,453 RNDR', '12,072,738 QNT', '2,100,000,000,000 1000SATS', '21,000,000 ORDI', '2,803,634,836 FTM', '14,673,856 AAVE', '1,478,118,922 FLOW', '1,000,000,000 THETA', '132,040,367 AXS', '918,885 MKR', '2,118,731,926 SAND', '1,023,606,289 MINA', '301,029,266 SNX', '328,895,104 FTT', '159,206,518 HNT', '951,421,714,286,000 BTT', '347,920,625 WEMIX', '60,837,624,528,359 BONK', '96,732,986 KCS', '1,893,095,371 MANA', '70,538,831 NEO', '1,012,420,542 BUSD', '47,892,189,743 BEAM', '964,666,645 XTZ', '19,588,756 BSV', '1,112,343,765 EOS', '1,061,740,827 KAVA', '26,933,512,339 GALA', '5,859,506,081,767 LUNC', '2,300,000,000 SEI', '6,713,599,876 ROSE', '3,057,265,852 IOTA', '1,400,000,000 BGB', '1,033,262,463 SUI', '1,801,553,287 WOO', '3,279,610,649 KLAY', '270,352,794 CAKE', '492,590,761 OSMO', '725,332,034 USDD', '3,555,005,045 CFX', '65,454,185 AR', '7,749,332,980 CHZ', '13,886,666,835 XDC', '19,588,892,173,092 XEC', '368,593,750 APE', '1,023,661,788 CRV', '75,871,621 FXS', '1,182,292,456 BLUR', '829,402,819 FET', '614,189,492 LUNA', '420,689,899,999,995 PEPE', '5,418,062,785 ASTR']}\n"
     ]
    }
   ],
   "source": [
    "Coin coins = []\n",
    "\n"
   ]
  },
  {
   "cell_type": "code",
   "execution_count": 74,
   "metadata": {},
   "outputs": [
    {
     "data": {
      "text/plain": [
       "list"
      ]
     },
     "execution_count": 74,
     "metadata": {},
     "output_type": "execute_result"
    }
   ],
   "source": [
    "logos = []\n",
    "names\n",
    "for row in table_rows[2:]:\n",
    "    img_tag = row.find(\"img\", {\"class\": \"coin-logo\"})[\"src\"]\n",
    "    logos.append(img_tag)"
   ]
  }
 ],
 "metadata": {
  "kernelspec": {
   "display_name": "Python 3",
   "language": "python",
   "name": "python3"
  },
  "language_info": {
   "codemirror_mode": {
    "name": "ipython",
    "version": 3
   },
   "file_extension": ".py",
   "mimetype": "text/x-python",
   "name": "python",
   "nbconvert_exporter": "python",
   "pygments_lexer": "ipython3",
   "version": "3.12.0"
  }
 },
 "nbformat": 4,
 "nbformat_minor": 2
}
